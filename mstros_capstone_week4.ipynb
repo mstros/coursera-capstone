{
 "cells": [
  {
   "cell_type": "markdown",
   "metadata": {
    "button": false,
    "new_sheet": false,
    "run_control": {
     "read_only": false
    }
   },
   "source": [
    "\n",
    "<h1>European Capitals - Clustering by cultural venues</h1>\n",
    "<h2>Coursera Capstone Final Project (week 4)</h2>\n",
    "\n",
    "**Author: Martin Stros**\n",
    "\n",
    "Date: 2019/08/21\n",
    "***"
   ]
  },
  {
   "cell_type": "markdown",
   "metadata": {},
   "source": [
    "<p><img src='back.jpg' width='450'>"
   ]
  },
  {
   "cell_type": "markdown",
   "metadata": {},
   "source": [
    "<h1>Introduction</h1>\n",
    "\n",
    "European culture is largely rooted in what is often referred to as its \"common cultural heritage\". Because of the great number of perspectives which can be taken on the subject, it is impossible to form a single, all-embracing conception of European culture. Nonetheless, there are core elements which are generally agreed upon as forming the cultural foundation of modern Europe. "
   ]
  },
  {
   "cell_type": "markdown",
   "metadata": {},
   "source": [
    "<h1>Objective</h1>\n",
    "\n",
    "In this project, I will focus only on capital cities in Europe, assuming they represent their countries and nation's culture.\n",
    "\n",
    "Using Machine Learning clustering techniques, I will group the cities in clusters to determine:\n",
    "<br>\n",
    "* Similarity or dissimilarity of the cities from cultural point of view\n",
    "* Classification of capitals into clusters and their visualization\n",
    "\n",
    "Even though cuisine is usually a significant contributor to a nation's culture, I will leave out restaurants from the comparison. The idea is that while in Italy you will probably want to eat italian food and while in Berlin you will want to eat german food, even though there are hundreds of italian restaurants. Thus it does not make much sense in this scenario to cluster cities by the presence of restaurants. However, it might be a iteresting topic to explore in a separate project. \n",
    "\n",
    "The data I used contain venues like museums, theatres, concert halls etc.\n",
    "\n",
    "As a tourist, you might find this information useful, for example, if you liked Sarajevo (Bosna i Hercegovina) you might as well like La Valletta (Malta) and Luxembourgh, due to a high number of history museums, theatres and movie theatres.\n",
    "\n",
    "You can also use the model as a travel agent to recommend your customers different places to visit."
   ]
  },
  {
   "cell_type": "markdown",
   "metadata": {},
   "source": [
    "<h1>Data</h1>\n",
    "\n",
    "The data come from Wikipedia, listing European countries and their capitals. This is pretty straightforward.\n",
    "\n",
    "https://simple.wikipedia.org/wiki/List_of_European_countries"
   ]
  },
  {
   "cell_type": "markdown",
   "metadata": {},
   "source": [
    "<p><img src='wiki.png' width='700'>"
   ]
  },
  {
   "cell_type": "markdown",
   "metadata": {},
   "source": [
    "To complement the data with geolocations like latitude and longitude, I use Geopy library that pulls data from Nominatim. \n",
    "Geopy makes it easy for Python developers to locate the coordinates of addresses, cities, countries, and landmarks across the globe using third-party geocoders and other data sources.\n",
    "\n",
    "https://geopy.readthedocs.io\n",
    "\n",
    "https://nominatim.openstreetmap.org/"
   ]
  },
  {
   "cell_type": "markdown",
   "metadata": {},
   "source": [
    "<p><img src='capitals_map.png' width='700'>"
   ]
  },
  {
   "cell_type": "markdown",
   "metadata": {},
   "source": [
    "The last but not least are data from Foursquare that I access through API. \n",
    "\n",
    "https://foursquare.com/\n",
    "\n",
    "The problem with these data is that it will never fully cover the real world aspects of culture, like the nature of people, vibe in the city etc. So, even though Sarajevo, Luxembourhg and La Valletta all look alike in terms of most prevalent venues, you might get a very different feeling of the city once you visit it.\n",
    "\n",
    "However, the data is sufficient for this project and study."
   ]
  },
  {
   "cell_type": "markdown",
   "metadata": {},
   "source": [
    "<p><img src='foursquare.png'>"
   ]
  },
  {
   "cell_type": "markdown",
   "metadata": {},
   "source": [
    "For a sample comparison of two cities that will be clustered together, I will use word cloud. Example:"
   ]
  },
  {
   "cell_type": "markdown",
   "metadata": {},
   "source": [
    "<p><img src='two_city_wordcloud.png' width='700'>"
   ]
  },
  {
   "cell_type": "code",
   "execution_count": null,
   "metadata": {},
   "outputs": [],
   "source": []
  }
 ],
 "metadata": {
  "kernelspec": {
   "display_name": "Python 3",
   "language": "python",
   "name": "python3"
  },
  "language_info": {
   "codemirror_mode": {
    "name": "ipython",
    "version": 3
   },
   "file_extension": ".py",
   "mimetype": "text/x-python",
   "name": "python",
   "nbconvert_exporter": "python",
   "pygments_lexer": "ipython3",
   "version": "3.6.7"
  },
  "widgets": {
   "state": {},
   "version": "1.1.2"
  }
 },
 "nbformat": 4,
 "nbformat_minor": 2
}
