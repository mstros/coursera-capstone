{
 "cells": [
  {
   "cell_type": "markdown",
   "metadata": {
    "button": false,
    "new_sheet": false,
    "run_control": {
     "read_only": false
    }
   },
   "source": [
    "***\n",
    "<h1>European Capitals - Clustering by cultural venues</h1>\n",
    "<h2>Coursera Capstone Final Project (week 5, part 1)</h2>\n",
    "\n",
    "**Author: Martin Stros**\n",
    "\n",
    "Date: 2019/08/21\n",
    "***"
   ]
  },
  {
   "cell_type": "markdown",
   "metadata": {},
   "source": [
    "<p><img src='back.jpg' width='450'>"
   ]
  },
  {
   "cell_type": "markdown",
   "metadata": {},
   "source": [
    "<h1>Introduction</h1>\n",
    "\n",
    "European culture is largely rooted in what is often referred to as its \"common cultural heritage\". Because of the great number of perspectives which can be taken on the subject, it is impossible to form a single, all-embracing conception of European culture. Nonetheless, there are core elements which are generally agreed upon as forming the cultural foundation of modern Europe. "
   ]
  },
  {
   "cell_type": "markdown",
   "metadata": {},
   "source": [
    "<h1>Objective</h1>\n",
    "\n",
    "In this project, I will focus only on capital cities in Europe, assuming they represent their countries and nation's culture.\n",
    "\n",
    "Using Machine Learning clustering techniques, I will group the cities in clusters to determine:\n",
    "<br>\n",
    "* Similarity or dissimilarity of the cities from cultural point of view\n",
    "* Classification of capitals into clusters and their visualization\n",
    "\n",
    "Even though cuisine is usually a significant contributor to a nation's culture, I will leave out restaurants from the comparison. The idea is that while in Italy you will probably want to eat italian food and while in Berlin you will want to eat german food, even though there are hundreds of italian restaurants. Thus it does not make much sense in this scenario to cluster cities by the presence of restaurants. However, it might be a iteresting topic to explore in a separate project. \n",
    "\n",
    "The data I used contain venues like museums, theatres, concert halls etc.\n",
    "\n",
    "As a tourist, you might find this information useful, for example, if you liked Sarajevo (Bosna i Hercegovina) you might as well like La Valletta (Malta) and Luxembourgh, due to a high number of history museums, theatres and movie theatres.\n",
    "\n",
    "You can also use the model as a travel agent to recommend your customers different places to visit."
   ]
  },
  {
   "cell_type": "markdown",
   "metadata": {},
   "source": [
    "<h1>Data</h1>\n",
    "\n",
    "The data come from Wikipedia, listing European countries and their capitals. This is pretty straightforward.\n",
    "\n",
    "https://simple.wikipedia.org/wiki/List_of_European_countries"
   ]
  },
  {
   "cell_type": "markdown",
   "metadata": {},
   "source": [
    "<p><img src='wiki.png' width='700'>"
   ]
  },
  {
   "cell_type": "markdown",
   "metadata": {},
   "source": [
    "To complement the data with geolocations like latitude and longitude, I use Geopy library that pulls data from Nominatim. \n",
    "Geopy makes it easy for Python developers to locate the coordinates of addresses, cities, countries, and landmarks across the globe using third-party geocoders and other data sources.\n",
    "\n",
    "https://geopy.readthedocs.io\n",
    "\n",
    "https://nominatim.openstreetmap.org/"
   ]
  },
  {
   "cell_type": "markdown",
   "metadata": {},
   "source": [
    "<p><img src='capitals_map.png' width='700'>"
   ]
  },
  {
   "cell_type": "markdown",
   "metadata": {},
   "source": [
    "The last but not least are data from Foursquare that I access through API. \n",
    "\n",
    "https://foursquare.com/\n",
    "\n",
    "The problem with these data is that it will never fully cover the real world aspects of culture, like the nature of people, vibe in the city etc. So, even though Sarajevo, Luxembourhg and La Valletta all look alike in terms of most prevalent venues, you might get a very different feeling of the city once you visit it.\n",
    "\n",
    "However, the data is sufficient for this project and study."
   ]
  },
  {
   "cell_type": "markdown",
   "metadata": {},
   "source": [
    "<p><img src='foursquare.png'>"
   ]
  },
  {
   "cell_type": "markdown",
   "metadata": {},
   "source": [
    "For a sample comparison of two cities that will be clustered together, I will use word cloud."
   ]
  },
  {
   "cell_type": "markdown",
   "metadata": {},
   "source": [
    "<h1>Methodology</h1>"
   ]
  },
  {
   "cell_type": "markdown",
   "metadata": {},
   "source": [
    "All parts of this project are coded in Python. The data from Wikipedia are scrapped using Pandas built in read_html function. After that, the data needs a little bit of cleaning, as there are some special characters that would break the next steps. Geolocations (from Nominatim's OpenStreetMaps) are then added using Geopy. Using FourSquare API, as much as 50 cultural venues close to the city center are pulled for each capital. The results are explored, for example finding the most common venues in each city.\n",
    "\n",
    "To find groups of similar cities, the data is converted to a OneHot dataframe, and **is clustered using K-Means machine learning algorhytm. The optimal K is searched for.**\n",
    "\n",
    "Finally, each cluster is inspected for typical venue categories that I will present using Word Cloud visualization method."
   ]
  },
  {
   "cell_type": "markdown",
   "metadata": {},
   "source": [
    "<h1>Results</h1>"
   ]
  },
  {
   "cell_type": "markdown",
   "metadata": {},
   "source": [
    "Using the K-Means clustering method, the capital cities were divided into ten clusters and displayed on Folium Map.\n",
    "\n",
    "With geolocations added, various colors indicate capital cities belonging to a specific cluster."
   ]
  },
  {
   "cell_type": "markdown",
   "metadata": {},
   "source": [
    "<p><img src='capitals_clustered.png' width='700'>"
   ]
  },
  {
   "cell_type": "markdown",
   "metadata": {},
   "source": [
    "Not that geolocations of cluster centroids are any useful here, but for the sake of study purpose we can display centroids on a Folium Map (Python)."
   ]
  },
  {
   "cell_type": "markdown",
   "metadata": {},
   "source": [
    "<p><img src='centroids_map.png' width='700'>"
   ]
  },
  {
   "cell_type": "markdown",
   "metadata": {},
   "source": [
    "FourSquare is very useful to explore each city for venues and categorizing them. For example first ten rows of capital Brussels (Belgium) will give overview of what venues you can expect in the city."
   ]
  },
  {
   "cell_type": "markdown",
   "metadata": {},
   "source": [
    "<p><img src='brussels_venues.png' width='700'>"
   ]
  },
  {
   "cell_type": "markdown",
   "metadata": {},
   "source": [
    "Let's use World Cloud to describe similar cities that were discovered using the described method and classified into the same cluster by K-Means.\n",
    "\n",
    "As you can see, Brussels and Berlin are similar cities, at least from view of culture venues present. What connects them are: Museum, Theatre, Art, History."
   ]
  },
  {
   "cell_type": "markdown",
   "metadata": {},
   "source": [
    "<p><img src='two_city_wordcloud.png' width='700'>"
   ]
  },
  {
   "cell_type": "markdown",
   "metadata": {},
   "source": [
    "<h1>Discussion</h1>"
   ]
  },
  {
   "cell_type": "markdown",
   "metadata": {},
   "source": [
    "When using the K-Means method always brings the problem of finding the best K. If it is not known beforehand, one of the most common ways for find it is using the so called Elbow method. However, in this scenario, the Elbow chart does not reveal a significant turning point in the curve of diminishing squared distances. For that reason, I needed to choose the K in a different way. Given that there are 50 capitals in Europe, it does not make sense to split them into too much clusters. But being a diverse continent, neither too few clusters would work. K=10 was chosen as a compromise.\n",
    "\n",
    "Otherwise, the K-Means works well for clustering of capital cities."
   ]
  },
  {
   "cell_type": "markdown",
   "metadata": {},
   "source": [
    "<p><img src='k_search.png' width='400'>"
   ]
  },
  {
   "cell_type": "markdown",
   "metadata": {},
   "source": [
    "A different kind of problem is the limitation of the free version of Foursquare API. While the limit for each city is 50 venues, some smaller cities do not have more than 5 venues. For large cities like London and Paris, 50 venues is a small part of what the city has to offer. In reality, it would be very questionable to determine similarity of cities on a relatively small sample. But the value increases for someone who could be labeled as a 'mass tourist', who will always visit the main attractions and will not be looking for the 'hidden gems'."
   ]
  },
  {
   "cell_type": "markdown",
   "metadata": {},
   "source": [
    "<h1>Conclusion</h1>"
   ]
  },
  {
   "cell_type": "markdown",
   "metadata": {},
   "source": [
    "FourSquare API is very powerful if used correctly, its advantage is that people use it all around the world. The discussion thread for every venue is very helpful to learn references from other visitors.\n",
    "\n",
    "It is quite interesting to see that some smaller cities like Reykjavik, San Marino and Andorra la Vella are very unique and not like any other capital in Europe. On the other hand, it is great to know that after visiting the tourist staples like Prague, Madrid, London, one might go on visiting more 'exotic' places like Yerevan, Pristina, Podgorica, and have a similar experience."
   ]
  }
 ],
 "metadata": {
  "kernelspec": {
   "display_name": "Python 3",
   "language": "python",
   "name": "python3"
  },
  "language_info": {
   "codemirror_mode": {
    "name": "ipython",
    "version": 3
   },
   "file_extension": ".py",
   "mimetype": "text/x-python",
   "name": "python",
   "nbconvert_exporter": "python",
   "pygments_lexer": "ipython3",
   "version": "3.6.7"
  },
  "widgets": {
   "state": {},
   "version": "1.1.2"
  }
 },
 "nbformat": 4,
 "nbformat_minor": 2
}
